{
 "cells": [
  {
   "cell_type": "code",
   "execution_count": 1,
   "id": "bf9e2f28",
   "metadata": {},
   "outputs": [],
   "source": [
    "import numpy as np\n",
    "import pandas as pd\n",
    "import matplotlib.pyplot as plt\n",
    "from numpy import *\n",
    "import plotly.graph_objects as go"
   ]
  },
  {
   "cell_type": "code",
   "execution_count": 2,
   "id": "c7647e04",
   "metadata": {},
   "outputs": [],
   "source": [
    "class MultiLJ:\n",
    "    import plotly.graph_objects as go\n",
    "    def __init__(self,radius):\n",
    "        self.radius = radius - (0.373/2)\n",
    "        ndf = (0.373/2)* self.hcp(30)\n",
    "        mydf = ndf - ndf.mean()\n",
    "        rad = np.sqrt(mydf.x **2 + mydf.y**2 + mydf.z**2)\n",
    "        \n",
    "        df = ndf[rad < self.radius]\n",
    "        self.df = df\n",
    "        fig = go.Figure(data=go.Scatter3d(\n",
    "            x=df.x, y=df.y, z=df.z, mode='markers',\n",
    "            marker=dict(size=df.x*0 + 37, symbol=\"circle\", color=-df.z, opacity=1),\n",
    "        ))\n",
    "        x , y, z = self.get_coords_sphere(self.radius,*ndf.mean())\n",
    "        fig.add_trace(go.Surface(\n",
    "                x=x,\n",
    "                y=y,\n",
    "                z=z,\n",
    "                surfacecolor = z*0,\n",
    "                opacity = 0.7,\n",
    "                showlegend = False,\n",
    "                hoverinfo = \"skip\",\n",
    "                showscale = False))\n",
    "\n",
    "\n",
    "        fig.layout.scene.camera.projection.type = 'orthographic'\n",
    "        fig.update_scenes(xaxis_visible=False, yaxis_visible=False,zaxis_visible=False, bgcolor='rgba(0,0,0,1)' )\n",
    "        fig.update_layout(showlegend=False)\n",
    "        fig.update_layout(height = 500,width = 500, margin=dict(l=0, r=0, b=0, t=0))\n",
    "        self.fig = fig\n",
    "        fig.show()\n",
    "        self.make_gro(df)\n",
    "        self.make_topol(df)\n",
    "        self.make_itp(df)\n",
    "        \n",
    "        print(\"Successful!\\n\")\n",
    "        print(f\"Generated methane{len(df)}.gro file with {len(df)} number of methane...\\n\")\n",
    "        print(f\"Written methane{len(df)}.itp file for the itp configuration...\\n\")\n",
    "        print(f\"Generated topol{len(df)}.top for the topology of this methane cluster...\\n\")\n",
    "        \n",
    "    def get_coords_sphere(self,r,x,y,z):\n",
    "\n",
    "        theta = linspace(0,2*pi,100)\n",
    "        phi = linspace(0,pi,100)\n",
    "        x = x + r* outer(cos(theta),sin(phi))\n",
    "        y = y + r* outer(sin(theta),sin(phi))\n",
    "        z = z + r* outer(ones(100),cos(phi))  # note this is 2d now\n",
    "        return x , y, z\n",
    "\n",
    "    def hcp(self,n):\n",
    "        dim = 3\n",
    "        k, j, i = [v.flatten()\n",
    "                   for v in np.meshgrid(*([range(n)] * dim), indexing='ij')]\n",
    "        df = pd.DataFrame({\n",
    "            'x': 2 * i + (j + k) % 2,\n",
    "            'y': np.sqrt(3) * (j + 1/3 * (k % 2)),\n",
    "            'z': 2 * np.sqrt(6) / 3 * k,\n",
    "        })\n",
    "        return df\n",
    "    #writing a gro file...\n",
    "    def make_gro_line(self, resn, index, x,y,z):\n",
    "        #global template;\n",
    "        template = \"    1SOL    XXindex   XXXXX   YYYYY   ZZZZZ\\n\"\n",
    "        gro = template.replace('1SOL'.rjust(8), resn.rjust(8))\n",
    "        gro = gro.replace('index', index.rjust(5))\n",
    "        gro = gro.replace('XXXXX', x)\n",
    "        gro = gro.replace('YYYYY', y)\n",
    "        gro = gro.replace('ZZZZZ', z)\n",
    "        return gro\n",
    "    def make_gro(self, df):\n",
    "        fo = open(f\"methane{len(df)}.gro\",\"w\")\n",
    "        fo.write(\"Methane_cluster\\n\")\n",
    "        #df = df - df.mean()\n",
    "        fo.write(str(len(df))+\"\\n\")\n",
    "        for i in range(len(df)):\n",
    "            resn = str(i+1) + \"XXX\"\n",
    "            index = str(i+1)\n",
    "            x = str(('%.3f'%df.x.iloc[i]))\n",
    "            y = str(('%.3f'%df.y.iloc[i]))\n",
    "            z = str(('%.3f'%df.z.iloc[i]))\n",
    "            line = self.make_gro_line(resn, index, x, y, z)\n",
    "            fo.write(line)\n",
    "        fo.write('   3.96838   3.94838   3.94838\\n')\n",
    "        fo.close()\n",
    "        return None\n",
    "    def make_itp(self, df):\n",
    "        fo = open(f\"methane{len(df)}.itp\",\"w\")\n",
    "        fo.write(\"[moleculetype]\\n\")\n",
    "        fo.write(\";mol name        nrexcl\\n\")\n",
    "        fo.write(\"  XXX               3\\n\")\n",
    "        fo.write(\"\\n\")\n",
    "        fo.write(\" [atoms ]\\n\")\n",
    "        fo.write(\";   nr       type  resnr residue  atom   cgnr     charge  mass\\n\")\n",
    "        template = \"    1       opls_970   1     XXX       XX     1        0       16.043\\n\"\n",
    "        for i in range(1,len(df)+1):\n",
    "            line = str(i).rjust(5) + template[5:]\n",
    "            fo.write(line)\n",
    "        fo.close\n",
    "        return None\n",
    "    def make_topol(self, df):\n",
    "        fo = open(f\"topol{len(df)}.top\",\"w\")\n",
    "        fo.write(\"; Topology for methane in TIP3P\\n\")\n",
    "        fo.write(\"#include \\\"./oplsaa.ff/forcefield.itp\\\"\\n\")\n",
    "        fo.write(\"\\n\")\n",
    "        fo.write(f\"#include \\\"methane{len(df)}.itp\\\"\\n\")\n",
    "        fo.write(\"\\n\")\n",
    "        fo.write(\"#ifdef POSRES\\n\")\n",
    "        fo.write(\"[ position_restraints ]\\n\")\n",
    "        fo.write(\"; ai  funct  fcx    fcy    fcz\\n\")\n",
    "        template  = \"   1    1    1000   1000   1000\\n\"\n",
    "        for i in range(1, len(df)+1):\n",
    "            line = str(i).rjust(4) + template[4:]\n",
    "            fo.write(line)\n",
    "        fo.write(\"#endif\\n\")\n",
    "        fo.write(\"; water topology\\n\")\n",
    "        fo.write(\"#include \\\"./oplsaa.ff/tip3p.itp\\\"\\n\")\n",
    "        fo.write(\"\\n\")\n",
    "        fo.write(\"[ system ]\\n\")\n",
    "        fo.write(\"; Name\\n\")\n",
    "        fo.write(\"LJ sphere in water\\n\")\n",
    "        fo.write(\"\\n\")\n",
    "        fo.write(\"[ molecules ]\\n\")\n",
    "        fo.write(\"; Compound             #mols\\n\")\n",
    "        fo.write(\"XXX                     1\\n\")\n",
    "        #fo.write(\"SOL                    1860\\n\")\n",
    "        fo.write(\"\\n\")\n",
    "        fo.close()    \n",
    "        return None"
   ]
  },
  {
   "cell_type": "code",
   "execution_count": 3,
   "id": "a2217169",
   "metadata": {
    "scrolled": true
   },
   "outputs": [],
   "source": [
    "#This will create the .gro ,.itp and .top file for MultiLJ model ... \n",
    "#a = MultiLJ(2.0)"
   ]
  },
  {
   "cell_type": "code",
   "execution_count": 5,
   "id": "a23e9c51",
   "metadata": {},
   "outputs": [],
   "source": [
    "#len(a.df)"
   ]
  },
  {
   "cell_type": "markdown",
   "id": "125b8de8",
   "metadata": {},
   "source": [
    "<html>\n",
    "<img src=\"./Examples/newplot (2).png\">\n",
    "</html>"
   ]
  },
  {
   "cell_type": "markdown",
   "id": "af5c4a5c",
   "metadata": {},
   "source": [
    "## An example...."
   ]
  },
  {
   "cell_type": "code",
   "execution_count": 7,
   "id": "475d17af",
   "metadata": {},
   "outputs": [],
   "source": [
    "dat =  np.loadtxt(\"./Examples/rdf.xvg\",skiprows =26)"
   ]
  },
  {
   "cell_type": "markdown",
   "id": "818cf08c",
   "metadata": {},
   "source": [
    "<p > HCP cluster of methane (310 molecules(unified)) and water within 5 Angstrom of it..</p>\n",
    " <img src=\"./Examples/VMD 1.9.3 OpenGL Display 27-12-2021 19_20_13.png\">    "
   ]
  },
  {
   "cell_type": "code",
   "execution_count": 8,
   "id": "856f7d09",
   "metadata": {},
   "outputs": [
    {
     "data": {
      "image/png": "[encoded data removed]",
      "text/plain": [
       "<Figure size 640x480 with 1 Axes>"
      ]
     },
     "metadata": {},
     "output_type": "display_data"
    }
   ],
   "source": [
    "plt.style.use(\"default\")\n",
    "\n",
    "plt.plot(dat[:,0],dat[:,1],label = \"rdf_data\")\n",
    "plt.axvline(x=dat[:,0][np.argmax(dat[:,1])], ls = \"--\", label = f\"effective radius ={dat[:,0][np.argmax(dat[:,1])]}\")\n",
    "plt.legend()\n",
    "plt.xlabel(r\"r$\\longrightarrow$\")\n",
    "plt.ylabel(r\"g(r)$\\longrightarrow$\")\n",
    "plt.suptitle(\"Effective radius for spherical cluster of methane of radius 1.213 \")\n",
    "plt.title(\"Rdf data generated from: gmx rdf -f md.xtc -s md.tpr -seltype whole_res_com\")\n",
    "#plt.savefig(\"something.png\")\n",
    "plt.show()"
   ]
  },
  {
   "cell_type": "code",
   "execution_count": 9,
   "id": "6d868115",
   "metadata": {},
   "outputs": [
    {
     "data": {
      "text/plain": [
       "1.2134999999999998"
      ]
     },
     "execution_count": 9,
     "metadata": {},
     "output_type": "execute_result"
    }
   ],
   "source": [
    "1.4 - (0.373/2)"
   ]
  },
  {
   "cell_type": "code",
   "execution_count": 10,
   "id": "a4cd400a",
   "metadata": {},
   "outputs": [
    {
     "data": {
      "text/plain": [
       "0.1865"
      ]
     },
     "execution_count": 10,
     "metadata": {},
     "output_type": "execute_result"
    }
   ],
   "source": [
    "0.373/2"
   ]
  },
  {
   "cell_type": "code",
   "execution_count": null,
   "id": "49968715",
   "metadata": {},
   "outputs": [],
   "source": []
  }
 ],
 "metadata": {
  "kernelspec": {
   "display_name": "Python 3",
   "language": "python",
   "name": "python3"
  },
  "language_info": {
   "codemirror_mode": {
    "name": "ipython",
    "version": 3
   },
   "file_extension": ".py",
   "mimetype": "text/x-python",
   "name": "python",
   "nbconvert_exporter": "python",
   "pygments_lexer": "ipython3",
   "version": "3.8.8"
  }
 },
 "nbformat": 4,
 "nbformat_minor": 5
}
